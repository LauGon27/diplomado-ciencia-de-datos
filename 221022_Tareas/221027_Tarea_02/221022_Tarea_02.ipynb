{
 "cells": [
  {
   "cell_type": "markdown",
   "id": "b961097f-aa25-4de0-9370-1362b79be26a",
   "metadata": {},
   "source": [
    "1. Escriba una función  que reciba la fecha de nacimiento de un a persona y calcule la edad de la persona"
   ]
  },
  {
   "cell_type": "code",
   "execution_count": 41,
   "id": "c645bc99-ca79-40f9-83a6-7c44c2b375ab",
   "metadata": {},
   "outputs": [],
   "source": [
    "from datetime import datetime\n",
    "\n",
    "def calculo_edad(fecha_nacimiento: str)->int:\n",
    "    '''\n",
    "    Funcion para calcular la edad(entero) a partir de la fecha de nacimiento(dd-MM-yyyy) y con respecto a la fecha actual (Docstring)\n",
    "    '''\n",
    "    fecha_inicial = datetime.strptime(fecha_nacimiento, \"%d-%m-%Y\")\n",
    "    fecha_final =  datetime.today()\n",
    "    delta = fecha_final - fecha_inicial\n",
    "    edad =  delta.days/365\n",
    "    print(int(edad))"
   ]
  },
  {
   "cell_type": "code",
   "execution_count": 43,
   "id": "e2e20402-e93d-4602-82d3-393c4580e6b3",
   "metadata": {},
   "outputs": [
    {
     "name": "stdout",
     "output_type": "stream",
     "text": [
      "28\n"
     ]
    }
   ],
   "source": [
    "calculo_edad('18-11-1993')"
   ]
  },
  {
   "cell_type": "markdown",
   "id": "53db1f72-aab1-440f-8f9c-0662db462618",
   "metadata": {},
   "source": [
    "2. Crea una función EscribirCentrado, que reciba como parámetro un texto y lo escriba centrado en pantalla (suponiendo una anchura de 80 columnas; pista: deberás escribir 40 - longitud/2 espacios antes del texto).  "
   ]
  },
  {
   "cell_type": "code",
   "execution_count": 47,
   "id": "d4d916b2-d3f5-499b-a886-d0885e9dd9a9",
   "metadata": {},
   "outputs": [],
   "source": [
    "def escribir_centrado(texto: str)-> str:\n",
    "    '''\n",
    "    Funcion que centra el texto a partir de una anchura determinada en este caso es de 80 especios\n",
    "    '''\n",
    "    texto_centrado = texto.center(80)\n",
    "    print(texto_centrado)\n",
    "#dir(str)"
   ]
  },
  {
   "cell_type": "code",
   "execution_count": 53,
   "id": "1f9e3c9a-e90c-4e1c-8c05-1101b5d30d83",
   "metadata": {},
   "outputs": [
    {
     "name": "stdout",
     "output_type": "stream",
     "text": [
      "                                     Bueno                                      \n"
     ]
    }
   ],
   "source": [
    "escribir_centrado('Bueno')"
   ]
  },
  {
   "cell_type": "markdown",
   "id": "c0e269e5-427b-477f-99af-d3ab1c5ed5cc",
   "metadata": {},
   "source": [
    "3. Construya una función decorada que reciba un texto y lo escriba marcado con Markdown en itálica y resaltada (bold). Revise la lección de decoradores, no vista en clase."
   ]
  },
  {
   "cell_type": "code",
   "execution_count": null,
   "id": "23dc1490-7c42-474e-adf1-efe4a9d8dbc6",
   "metadata": {},
   "outputs": [],
   "source": []
  },
  {
   "cell_type": "markdown",
   "id": "bdde6cb7-e4dd-4c6e-b4bf-e35c437eb5b6",
   "metadata": {},
   "source": [
    "4.  Crea un programa que pida dos número enteros al usuario y diga si alguno de ellos es múltiplo del otro."
   ]
  },
  {
   "cell_type": "code",
   "execution_count": 58,
   "id": "e4663c44-ed51-4069-bab2-4209466df3fa",
   "metadata": {},
   "outputs": [],
   "source": [
    "def modulo(x : int, y : int)-> bool:\n",
    "    '''\n",
    "    Indica si alguno de los numeros ingresados es multiplo del otro \n",
    "    '''\n",
    "    return x%y==0 or y%x==0 "
   ]
  },
  {
   "cell_type": "code",
   "execution_count": 62,
   "id": "63fff571-b03e-42ad-af5e-4d8f7d8de519",
   "metadata": {},
   "outputs": [
    {
     "data": {
      "text/plain": [
       "(True, False)"
      ]
     },
     "execution_count": 62,
     "metadata": {},
     "output_type": "execute_result"
    }
   ],
   "source": [
    "modulo(1,3), modulo(5,2)"
   ]
  },
  {
   "cell_type": "markdown",
   "id": "5b9f5b25-3a8f-4b93-8aad-ea98c66d814f",
   "metadata": {},
   "source": [
    "5. Crear una función re reciba una lista  de 24 valores de temperatura leída  hora en un día y que calcule la temperatura media  Cree una lista con 24 valores de temperatura de un día de Bogotá y pruebe su función. Invente los datos."
   ]
  },
  {
   "cell_type": "code",
   "execution_count": 64,
   "id": "91eb3dce-7d25-4bda-9dde-9d91e288e98c",
   "metadata": {},
   "outputs": [],
   "source": [
    "from typing import List\n",
    "\n",
    "def media_temp(temp_hora : List[float]) -> float:\n",
    "    '''\n",
    "    Calcula la media de tempetatura en un dia \n",
    "    '''\n",
    "    if len(temp_hora)==24:\n",
    "        count = 0\n",
    "        for i in temp_hora:\n",
    "            count += i\n",
    "        prom = count/24\n",
    "        print(prom)\n",
    "    else:\n",
    "        print('Error')"
   ]
  },
  {
   "cell_type": "code",
   "execution_count": 66,
   "id": "713d71be-89a7-414f-8b4f-ada6b6618e69",
   "metadata": {},
   "outputs": [
    {
     "name": "stdout",
     "output_type": "stream",
     "text": [
      "12.791666666666666\n"
     ]
    }
   ],
   "source": [
    "media_temp([11, 11, 10, 10, 10, 11, 12, 12, 13, 15, 16, 17, 16, 15, 14, 14, 14, 14, 13, 12, 11, 11, 12, 13])"
   ]
  },
  {
   "cell_type": "markdown",
   "id": "83c0a932-17f6-4a82-8e75-9b21fca7944c",
   "metadata": {},
   "source": [
    "5. Crea un función “ConvertirEspaciado”, que reciba como parámetro un texto y devuelve una cadena con un espacio adicional tras cada letra. Por ejemplo, “Hola, tú” devolverá “H o l a , t ú “.  Pruebe "
   ]
  },
  {
   "cell_type": "code",
   "execution_count": 4,
   "id": "263d3a81-011c-4c93-88fd-f5faa4b704f9",
   "metadata": {},
   "outputs": [],
   "source": [
    " def espaciado(frase: str) -> str:\n",
    "        \n",
    "    frase_ch =' '.join(list(frase))\n",
    "    print(frase_ch)"
   ]
  },
  {
   "cell_type": "code",
   "execution_count": 6,
   "id": "682b3f6b-db8c-410f-abbe-be925151997f",
   "metadata": {},
   "outputs": [
    {
     "name": "stdout",
     "output_type": "stream",
     "text": [
      "H o l a ,   c o m o   e s t a s\n"
     ]
    }
   ],
   "source": [
    "espaciado('Hola, como estas')"
   ]
  },
  {
   "cell_type": "markdown",
   "id": "dbe8ffa1-d3ef-4e5b-bac7-07486746eac8",
   "metadata": {},
   "source": [
    "6. Crea una función “calcularMaxMin” que recibe una arreglo con valores numérico y devuelve el valor máximo y el mínimo."
   ]
  },
  {
   "cell_type": "code",
   "execution_count": 75,
   "id": "055a049c-48bd-41e1-b426-aac7c89e44db",
   "metadata": {},
   "outputs": [],
   "source": [
    "def calcularMaxMin(lista: List[float]) -> float:\n",
    "    lista.sort()\n",
    "    return lista[-1], lista[0]"
   ]
  },
  {
   "cell_type": "code",
   "execution_count": 77,
   "id": "6a7a9b22-3fe3-47a8-8e0f-6264400d2089",
   "metadata": {},
   "outputs": [
    {
     "data": {
      "text/plain": [
       "(5, 1)"
      ]
     },
     "execution_count": 77,
     "metadata": {},
     "output_type": "execute_result"
    }
   ],
   "source": [
    "calcularMaxMin([4,5,3,1,2])"
   ]
  },
  {
   "cell_type": "markdown",
   "id": "58052b8c-afee-4f17-8008-f5184bd529bd",
   "metadata": {},
   "source": [
    "7.  Diseñar una función que calcule el área y el perímetro de una circunferencia. "
   ]
  },
  {
   "cell_type": "code",
   "execution_count": 9,
   "id": "fd3e6e42-8a39-4689-bce6-79799549f8a7",
   "metadata": {},
   "outputs": [],
   "source": [
    "import numpy as np \n",
    "def circunferencia( radio: float) -> float:\n",
    "    area = np.pi*radio**2\n",
    "    perimetro = 2* np.pi*radio\n",
    "    print('El área de la circunferencia es:', area)\n",
    "    print('El perímetro de la circunferencia es:', perimetro)\n",
    "    print('Nota: Tener cuidado con las unidades')"
   ]
  },
  {
   "cell_type": "code",
   "execution_count": 13,
   "id": "06001d5d-6040-411f-9bfc-7c9aaa51bb86",
   "metadata": {},
   "outputs": [
    {
     "name": "stdout",
     "output_type": "stream",
     "text": [
      "El área de la circunferencia es: 78.53981633974483\n",
      "El perímetro de la circunferencia es: 31.41592653589793\n",
      "Nota: Tener cuidado con las unidades\n"
     ]
    }
   ],
   "source": [
    "circunferencia(5)"
   ]
  },
  {
   "cell_type": "markdown",
   "id": "dafd847b-2c57-44df-a234-62ed6309a0e2",
   "metadata": {},
   "source": [
    "8. Crear una función  llamada “Login”, que recibe un nombre de usuario y una contraseña y devuelva Verdadero si el nombre de usuario es “usuario1” y la contraseña es “asdasd”. Además recibe el número de intentos que se ha intentado hacer login y si no se ha podido hacer login incremente este valor.\n"
   ]
  },
  {
   "cell_type": "code",
   "execution_count": null,
   "id": "680318c2-bb05-439a-a3ea-b1a6ac6b56d6",
   "metadata": {},
   "outputs": [],
   "source": []
  },
  {
   "cell_type": "code",
   "execution_count": null,
   "id": "ed2c366b-8452-4b35-8cb4-faefa658708e",
   "metadata": {},
   "outputs": [],
   "source": []
  },
  {
   "cell_type": "markdown",
   "id": "24195cfb-e8ac-42ae-a5ba-17fa48f22305",
   "metadata": {},
   "source": [
    "9. Crear una función recursiva que permita calcular el factorial de un número. Realiza un programa principal donde se lea un entero y se muestre el resultado del factorial. Revise la lección de funciones."
   ]
  },
  {
   "cell_type": "code",
   "execution_count": 83,
   "id": "c63cc8e4-5a3a-4e44-a6e3-ca4afdfd6a6d",
   "metadata": {},
   "outputs": [],
   "source": [
    "def fun_factorial(n:int):\n",
    "    '''\n",
    "    n! = n x (n-1)!\n",
    "    '''\n",
    "    #fac = n * fun_factorial(n-1) =\n",
    "    if n == 1 or n ==0:\n",
    "        fac = 1 \n",
    "        return fac\n",
    "    elif n > 1:\n",
    "        fac = n * fun_factorial(n-1)\n",
    "        return fac"
   ]
  },
  {
   "cell_type": "code",
   "execution_count": 85,
   "id": "ff72a70e-8305-4c30-a961-89bc0d49f952",
   "metadata": {},
   "outputs": [
    {
     "data": {
      "text/plain": [
       "120"
      ]
     },
     "execution_count": 85,
     "metadata": {},
     "output_type": "execute_result"
    }
   ],
   "source": [
    "fun_factorial(5)"
   ]
  },
  {
   "cell_type": "markdown",
   "id": "13c1655f-f43c-4e9b-afbc-18156c479f18",
   "metadata": {},
   "source": [
    "10 Escribir dos funciones que permitan calcular:\n",
    "\n",
    "    La cantidad de segundos en un tiempo dado en horas, minutos y segundos.\n",
    "    La cantidad de horas, minutos y segundos de un tiempo dado en segundos"
   ]
  },
  {
   "cell_type": "code",
   "execution_count": 44,
   "id": "8b9288fd-454c-426f-879a-717b6967b2c0",
   "metadata": {},
   "outputs": [],
   "source": [
    "def segundos(hora:str)->float:\n",
    "    sep = hora.split(':')\n",
    "    hh=float(sep[0])*3600\n",
    "    mm=float(sep[1])*60\n",
    "    ss = float(sep[2])\n",
    "    t=hh+mm+ ss\n",
    "    print(t)"
   ]
  },
  {
   "cell_type": "code",
   "execution_count": 45,
   "id": "dd2e837d-c3cd-4459-a8a8-9778a78fac48",
   "metadata": {},
   "outputs": [
    {
     "name": "stdout",
     "output_type": "stream",
     "text": [
      "80630.0\n"
     ]
    }
   ],
   "source": [
    "segundos('22:23:50')"
   ]
  },
  {
   "cell_type": "code",
   "execution_count": 30,
   "id": "10a6cad6-eedd-4c3b-acf7-395eafe834f2",
   "metadata": {},
   "outputs": [
    {
     "name": "stdout",
     "output_type": "stream",
     "text": [
      "<class 'float'>\n"
     ]
    }
   ],
   "source": [
    "def hora(segundos:float) -> str:\n",
    "    \n"
   ]
  },
  {
   "cell_type": "code",
   "execution_count": 52,
   "id": "e9f2bddf-921c-4cf9-a0c6-7c9f568e46ce",
   "metadata": {},
   "outputs": [],
   "source": [
    "def horas(segundos):\n",
    "    horas = int(segundos / 60 / 60)\n",
    "    segundos -= horas*60*60\n",
    "    minutos = int(segundos/60)\n",
    "    segundos -= minutos*60\n",
    "    return f\"{horas:02d}:{minutos:02d}:{segundos:02d}\""
   ]
  },
  {
   "cell_type": "code",
   "execution_count": 53,
   "id": "9e962039-1402-4497-acba-1993363646c0",
   "metadata": {},
   "outputs": [
    {
     "data": {
      "text/plain": [
       "'01:04:01'"
      ]
     },
     "execution_count": 53,
     "metadata": {},
     "output_type": "execute_result"
    }
   ],
   "source": [
    "horas(3841)"
   ]
  },
  {
   "cell_type": "markdown",
   "id": "96cc4c6a-237d-4eae-ba75-72c49b9716f4",
   "metadata": {},
   "source": [
    "11. Crea una función  que lea una tupla, invierta los valores de la tupla y regrese una nueva tupla invirtiendo los valores. Recuerde que las tuplas son inmutables."
   ]
  },
  {
   "cell_type": "code",
   "execution_count": 59,
   "id": "1ffdacd2-3a88-44d7-a489-b9303ef327c4",
   "metadata": {},
   "outputs": [],
   "source": [
    "def inversion(tupla:tuple)-> tuple:\n",
    "    tupla1 = tupla[::-1]\n",
    "    return tupla1"
   ]
  },
  {
   "cell_type": "code",
   "execution_count": 62,
   "id": "03c8da06-2965-4ec4-988a-ae05de2bc4a0",
   "metadata": {},
   "outputs": [
    {
     "name": "stdout",
     "output_type": "stream",
     "text": [
      "(2, 1)\n"
     ]
    },
    {
     "data": {
      "text/plain": [
       "tuple"
      ]
     },
     "execution_count": 62,
     "metadata": {},
     "output_type": "execute_result"
    }
   ],
   "source": [
    "print(inversion((1,2)))\n",
    "type(inversion((1,2)))"
   ]
  },
  {
   "cell_type": "markdown",
   "id": "8d1eab21-9c99-428d-836a-b35e41f95ff7",
   "metadata": {},
   "source": [
    "12. Escriba una función que lea una lista y calcule la media geométrica de sus valores, usando funtools.reduce."
   ]
  }
 ],
 "metadata": {
  "kernelspec": {
   "display_name": "Python 3 (ipykernel)",
   "language": "python",
   "name": "python3"
  },
  "language_info": {
   "codemirror_mode": {
    "name": "ipython",
    "version": 3
   },
   "file_extension": ".py",
   "mimetype": "text/x-python",
   "name": "python",
   "nbconvert_exporter": "python",
   "pygments_lexer": "ipython3",
   "version": "3.10.6"
  }
 },
 "nbformat": 4,
 "nbformat_minor": 5
}
