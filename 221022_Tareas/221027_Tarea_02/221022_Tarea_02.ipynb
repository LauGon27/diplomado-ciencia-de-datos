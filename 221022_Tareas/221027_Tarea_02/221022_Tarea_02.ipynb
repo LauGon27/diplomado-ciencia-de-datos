{
 "cells": [
  {
   "cell_type": "markdown",
   "id": "b961097f-aa25-4de0-9370-1362b79be26a",
   "metadata": {},
   "source": [
    "1. Escriba una función  que reciba la fecha de nacimiento de un a persona y calcule la edad de la persona"
   ]
  },
  {
   "cell_type": "code",
   "execution_count": 41,
   "id": "c645bc99-ca79-40f9-83a6-7c44c2b375ab",
   "metadata": {},
   "outputs": [],
   "source": [
    "from datetime import datetime\n",
    "\n",
    "def calculo_edad(fecha_nacimiento: str)->int:\n",
    "    '''\n",
    "    Funcion para calcular la edad(entero) a partir de la fecha de nacimiento(dd-MM-yyyy) y con respecto a la fecha actual (Docstring)\n",
    "    '''\n",
    "    fecha_inicial = datetime.strptime(fecha_nacimiento, \"%d-%m-%Y\")\n",
    "    fecha_final =  datetime.today()\n",
    "    delta = fecha_final - fecha_inicial\n",
    "    edad =  delta.days/365\n",
    "    print(int(edad))"
   ]
  },
  {
   "cell_type": "code",
   "execution_count": 43,
   "id": "e2e20402-e93d-4602-82d3-393c4580e6b3",
   "metadata": {},
   "outputs": [
    {
     "name": "stdout",
     "output_type": "stream",
     "text": [
      "28\n"
     ]
    }
   ],
   "source": [
    "calculo_edad('18-11-1993')"
   ]
  },
  {
   "cell_type": "markdown",
   "id": "53db1f72-aab1-440f-8f9c-0662db462618",
   "metadata": {},
   "source": [
    "2. Crea una función EscribirCentrado, que reciba como parámetro un texto y lo escriba centrado en pantalla (suponiendo una anchura de 80 columnas; pista: deberás escribir 40 - longitud/2 espacios antes del texto).  "
   ]
  },
  {
   "cell_type": "code",
   "execution_count": 47,
   "id": "d4d916b2-d3f5-499b-a886-d0885e9dd9a9",
   "metadata": {},
   "outputs": [],
   "source": [
    "def escribir_centrado(texto: str)-> str:\n",
    "    '''\n",
    "    Funcion que centra el texto a partir de una anchura determinada en este caso es de 80 especios\n",
    "    '''\n",
    "    texto_centrado = texto.center(80)\n",
    "    print(texto_centrado)\n",
    "#dir(str)"
   ]
  },
  {
   "cell_type": "code",
   "execution_count": 53,
   "id": "1f9e3c9a-e90c-4e1c-8c05-1101b5d30d83",
   "metadata": {},
   "outputs": [
    {
     "name": "stdout",
     "output_type": "stream",
     "text": [
      "                                     Bueno                                      \n"
     ]
    }
   ],
   "source": [
    "escribir_centrado('Bueno')"
   ]
  },
  {
   "cell_type": "markdown",
   "id": "c0e269e5-427b-477f-99af-d3ab1c5ed5cc",
   "metadata": {},
   "source": [
    "3. Construya una función decorada que reciba un texto y lo escriba marcado con Markdown en itálica y resaltada (bold). Revise la lección de decoradores, no vista en clase."
   ]
  },
  {
   "cell_type": "code",
   "execution_count": null,
   "id": "23dc1490-7c42-474e-adf1-efe4a9d8dbc6",
   "metadata": {},
   "outputs": [],
   "source": []
  },
  {
   "cell_type": "markdown",
   "id": "bdde6cb7-e4dd-4c6e-b4bf-e35c437eb5b6",
   "metadata": {},
   "source": [
    "4.  Crea un programa que pida dos número enteros al usuario y diga si alguno de ellos es múltiplo del otro."
   ]
  },
  {
   "cell_type": "code",
   "execution_count": 58,
   "id": "e4663c44-ed51-4069-bab2-4209466df3fa",
   "metadata": {},
   "outputs": [],
   "source": [
    "def modulo(x : int, y : int)-> bool:\n",
    "    '''\n",
    "    Indica si alguno de los numeros ingresados es multiplo del otro \n",
    "    '''\n",
    "    return x%y==0 or y%x==0 "
   ]
  },
  {
   "cell_type": "code",
   "execution_count": 62,
   "id": "63fff571-b03e-42ad-af5e-4d8f7d8de519",
   "metadata": {},
   "outputs": [
    {
     "data": {
      "text/plain": [
       "(True, False)"
      ]
     },
     "execution_count": 62,
     "metadata": {},
     "output_type": "execute_result"
    }
   ],
   "source": [
    "modulo(1,3), modulo(5,2)"
   ]
  },
  {
   "cell_type": "markdown",
   "id": "5b9f5b25-3a8f-4b93-8aad-ea98c66d814f",
   "metadata": {},
   "source": [
    "5. Crear una función re reciba una lista  de 24 valores de temperatura leída  hora en un día y que calcule la temperatura media  Cree una lista con 24 valores de temperatura de un día de Bogotá y pruebe su función. Invente los datos."
   ]
  },
  {
   "cell_type": "code",
   "execution_count": 64,
   "id": "91eb3dce-7d25-4bda-9dde-9d91e288e98c",
   "metadata": {},
   "outputs": [],
   "source": [
    "from typing import List\n",
    "\n",
    "def media_temp(temp_hora : List[float]) -> float:\n",
    "    '''\n",
    "    Calcula la media de tempetatura en un dia \n",
    "    '''\n",
    "    if len(temp_hora)==24:\n",
    "        count = 0\n",
    "        for i in temp_hora:\n",
    "            count += i\n",
    "        prom = count/24\n",
    "        print(prom)\n",
    "    else:\n",
    "        print('Error')"
   ]
  },
  {
   "cell_type": "code",
   "execution_count": 66,
   "id": "713d71be-89a7-414f-8b4f-ada6b6618e69",
   "metadata": {},
   "outputs": [
    {
     "name": "stdout",
     "output_type": "stream",
     "text": [
      "12.791666666666666\n"
     ]
    }
   ],
   "source": [
    "media_temp([11, 11, 10, 10, 10, 11, 12, 12, 13, 15, 16, 17, 16, 15, 14, 14, 14, 14, 13, 12, 11, 11, 12, 13])"
   ]
  },
  {
   "cell_type": "markdown",
   "id": "83c0a932-17f6-4a82-8e75-9b21fca7944c",
   "metadata": {},
   "source": [
    "5. Crea un función “ConvertirEspaciado”, que reciba como parámetro un texto y devuelve una cadena con un espacio adicional tras cada letra. Por ejemplo, “Hola, tú” devolverá “H o l a , t ú “.  Pruebe "
   ]
  },
  {
   "cell_type": "code",
   "execution_count": 74,
   "id": "263d3a81-011c-4c93-88fd-f5faa4b704f9",
   "metadata": {},
   "outputs": [
    {
     "data": {
      "text/plain": [
       "'H o l a ,   c o m o   e s t a s'"
      ]
     },
     "execution_count": 74,
     "metadata": {},
     "output_type": "execute_result"
    }
   ],
   "source": [
    " ' '.join(list('Hola, como estas'))"
   ]
  },
  {
   "cell_type": "markdown",
   "id": "dbe8ffa1-d3ef-4e5b-bac7-07486746eac8",
   "metadata": {},
   "source": [
    "6. Crea una función “calcularMaxMin” que recibe una arreglo con valores numérico y devuelve el valor máximo y el mínimo."
   ]
  },
  {
   "cell_type": "code",
   "execution_count": 75,
   "id": "055a049c-48bd-41e1-b426-aac7c89e44db",
   "metadata": {},
   "outputs": [],
   "source": [
    "def calcularMaxMin(lista: List[float]) -> float:\n",
    "    lista.sort()\n",
    "    return lista[-1], lista[0]"
   ]
  },
  {
   "cell_type": "code",
   "execution_count": 77,
   "id": "6a7a9b22-3fe3-47a8-8e0f-6264400d2089",
   "metadata": {},
   "outputs": [
    {
     "data": {
      "text/plain": [
       "(5, 1)"
      ]
     },
     "execution_count": 77,
     "metadata": {},
     "output_type": "execute_result"
    }
   ],
   "source": [
    "calcularMaxMin([4,5,3,1,2])"
   ]
  },
  {
   "cell_type": "markdown",
   "id": "24195cfb-e8ac-42ae-a5ba-17fa48f22305",
   "metadata": {},
   "source": [
    "9. Crear una función recursiva que permita calcular el factorial de un número. Realiza un programa principal donde se lea un entero y se muestre el resultado del factorial. Revise la lección de funciones."
   ]
  },
  {
   "cell_type": "code",
   "execution_count": 83,
   "id": "c63cc8e4-5a3a-4e44-a6e3-ca4afdfd6a6d",
   "metadata": {},
   "outputs": [],
   "source": [
    "def fun_factorial(n:int):\n",
    "    '''\n",
    "    n! = n x (n-1)!\n",
    "    '''\n",
    "    #fac = n * fun_factorial(n-1) =\n",
    "    if n == 1 or n ==0:\n",
    "        fac = 1 \n",
    "        return fac\n",
    "    elif n > 1:\n",
    "        fac = n * fun_factorial(n-1)\n",
    "        return fac"
   ]
  },
  {
   "cell_type": "code",
   "execution_count": 85,
   "id": "ff72a70e-8305-4c30-a961-89bc0d49f952",
   "metadata": {},
   "outputs": [
    {
     "data": {
      "text/plain": [
       "120"
      ]
     },
     "execution_count": 85,
     "metadata": {},
     "output_type": "execute_result"
    }
   ],
   "source": [
    "fun_factorial(5)"
   ]
  }
 ],
 "metadata": {
  "kernelspec": {
   "display_name": "Python 3 (ipykernel)",
   "language": "python",
   "name": "python3"
  },
  "language_info": {
   "codemirror_mode": {
    "name": "ipython",
    "version": 3
   },
   "file_extension": ".py",
   "mimetype": "text/x-python",
   "name": "python",
   "nbconvert_exporter": "python",
   "pygments_lexer": "ipython3",
   "version": "3.10.6"
  }
 },
 "nbformat": 4,
 "nbformat_minor": 5
}
