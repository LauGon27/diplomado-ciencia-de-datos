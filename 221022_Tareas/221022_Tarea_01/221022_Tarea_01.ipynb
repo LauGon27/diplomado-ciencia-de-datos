{
 "cells": [
  {
   "cell_type": "markdown",
   "id": "7c67cf69-434f-421f-b51f-227e941f2720",
   "metadata": {},
   "source": [
    "<figure>\n",
    "<img src=\"../../A_Preliminares/Imagenes/logo-final-ap.png\"  width=\"80\" height=\"80\" align=\"left\"/> \n",
    "</figure>\n",
    "\n",
    "# <span style=\"color:blue\"><left>Aprendizaje Profundo</left></span>"
   ]
  },
  {
   "cell_type": "markdown",
   "id": "c267b215-7a9c-4df9-828f-9d0688b2bebe",
   "metadata": {
    "tags": []
   },
   "source": [
    "# Prueba de Hipótesis\n",
    "--------"
   ]
  },
  {
   "cell_type": "markdown",
   "id": "2cf8631f-43ca-4977-be6c-1001baf72ab0",
   "metadata": {},
   "source": [
    "## **Autora**: Laura Daniela González Cruz "
   ]
  },
  {
   "cell_type": "markdown",
   "id": "1696dcbb-902b-4b80-8fa0-310fa2530588",
   "metadata": {},
   "source": [
    "Profesional en Física (esperando grado). Con interés en el área de ciencia de datos para la creación de modelos de predicción, inteligencia artificial y análisis de datos.Conocimiento en el manejo de lenguajes de programación como Python, Matlab y SQL además de herramientas para visualización como Power BI y DataStudio. \n",
    "\n",
    "Alta disposición y gusto por el trabajo en equipo en diferentes proyectos de analítica. Persistente, creativa y con interés en la innovación.\n",
    "<figure>\n",
    "<center>\n",
    "<img src=\"./IMG_20220127_153843.jpg\"  width=\"200\" height=\"200\"/> \n",
    "</center>   \n",
    "</figure>"
   ]
  },
  {
   "cell_type": "markdown",
   "id": "5906c9bc-509d-44b8-9b7a-256c394fd393",
   "metadata": {},
   "source": [
    "-----\n",
    "## Prueba de Hipótesis ¿Qué es?\n",
    "Una prueba de hipótesis es un procedimiento, con el que se busca tomar una decisión sobre el valor de verdad de una hipótesis estadística. Al realizar una prueba de hipótesis decidimos si rechazar o no rechazar esa hipótesis estadística. Basamos la decisión en la evidencia muestral.\n",
    "\n",
    "La prueba real comienza considerando dos hipótesis. Se denominan hipótesis nula e hipótesis alternativa. Donde estas hipótesis contiene puntos de vista opuestos.\n",
    "\n",
    "- Hipótesis Nula $H_0$: Es una afirmación de que no se encuentra una diferencia entre las variables. \n",
    "- Hipótesis Alternativa $H_a$: Es una afirmación sobre la población que es contradictoria con $H_0$ y lo que se concluye cuando no se puede aceptar $H_0$. de que no se encuentra una diferencia entre las variables. Esta es la que el investigador está tratando de probar. \n",
    "|$H_0$ | $H_a$ |\n",
    "|-------|-------|\n",
    "|Igual (=)   | No es igual ($\\neq$)|\n",
    "|Mayor  o igual que ($\\geq$)   | Menor que ($<$)|\n",
    "|Menor o igual o que  ($\\leq$)   | Mayor ($>$)|"
   ]
  },
  {
   "cell_type": "markdown",
   "id": "a86cec6f-ea2d-4415-8362-a69a0e75cf99",
   "metadata": {},
   "source": [
    "### Ejemplo\n",
    "\n",
    "Se quiere comprobar si el promedio de los estudiantes  universitarios es diferente de 3,0 (sobre 5,0). Por lo que las hipótesis nula y alternativa son: \n",
    " - $H_0: \\mu = 3,0 $ \n",
    " - $H_a: \\mu \\neq 3,0$"
   ]
  },
  {
   "cell_type": "markdown",
   "id": "bfce095f-fe88-4212-8386-fc378bffb0e5",
   "metadata": {},
   "source": [
    "-----\n",
    "### Referencias\n",
    "\n",
    "- [https://openstax.org/books/introducci%C3%B3n-estad%C3%ADstica-empresarial/pages/9-1-hipotesis-nula-y-alternativa ]\n",
    "- [https://probafacil.com/prueba-de-hipotesis-estadistica/ ]\n",
    "- [https://www.elsevier.es/es-revista-investigacion-educacion-medica-343-articulo-la-prueba-hipotesis-nula-sus-X2007505712427368 ]"
   ]
  }
 ],
 "metadata": {
  "kernelspec": {
   "display_name": "Python 3 (ipykernel)",
   "language": "python",
   "name": "python3"
  },
  "language_info": {
   "codemirror_mode": {
    "name": "ipython",
    "version": 3
   },
   "file_extension": ".py",
   "mimetype": "text/x-python",
   "name": "python",
   "nbconvert_exporter": "python",
   "pygments_lexer": "ipython3",
   "version": "3.10.6"
  }
 },
 "nbformat": 4,
 "nbformat_minor": 5
}
