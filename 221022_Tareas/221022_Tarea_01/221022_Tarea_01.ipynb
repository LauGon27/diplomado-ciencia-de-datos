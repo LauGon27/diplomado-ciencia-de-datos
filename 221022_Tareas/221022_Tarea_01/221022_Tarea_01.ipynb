{
 "cells": [
  {
   "cell_type": "markdown",
   "id": "7c67cf69-434f-421f-b51f-227e941f2720",
   "metadata": {},
   "source": [
    "<figure>\n",
    "<img src=\"../../A_Preliminares/Imagenes/logo-final-ap.png\"  width=\"80\" height=\"80\" align=\"left\"/> \n",
    "</figure>\n",
    "\n",
    "# <span style=\"color:blue\"><left>Aprendizaje Profundo</left></span>"
   ]
  },
  {
   "cell_type": "markdown",
   "id": "c267b215-7a9c-4df9-828f-9d0688b2bebe",
   "metadata": {
    "tags": []
   },
   "source": [
    "# Prueba de Hipótesis\n",
    "--------"
   ]
  },
  {
   "cell_type": "markdown",
   "id": "2cf8631f-43ca-4977-be6c-1001baf72ab0",
   "metadata": {},
   "source": [
    "## **Autora**: Laura Daniela González Cruz "
   ]
  },
  {
   "cell_type": "markdown",
   "id": "1696dcbb-902b-4b80-8fa0-310fa2530588",
   "metadata": {},
   "source": [
    "Profesional en Física (esperando grado). Con interés en el área de ciencia de datos para la creación de modelos de predicción, inteligencia artificial y análisis de datos.Conocimiento en el manejo de lenguajes de programación como Python, Matlab y SQL además de herramientas para visualización como Power BI y DataStudio. \n",
    "\n",
    "Alta disposición y gusto por el trabajo en equipo en diferentes proyectos de analítica. Persistente, creativa y con interés en la innovación.\n",
    "<figure>\n",
    "<center>\n",
    "<img src=\"./IMG_20220127_153843.jpg\"/> \n",
    "</center>   \n",
    "</figure>"
   ]
  },
  {
   "cell_type": "markdown",
   "id": "5906c9bc-509d-44b8-9b7a-256c394fd393",
   "metadata": {},
   "source": []
  },
  {
   "cell_type": "code",
   "execution_count": null,
   "id": "c3883e08-fa30-4750-8f3e-a01c05a1a81b",
   "metadata": {},
   "outputs": [
    {
     "name": "stdout",
     "output_type": "stream",
     "text": [
      "/home/lalago/diplomado-ciencia-de-datos/221022_Tareas\n"
     ]
    }
   ],
   "source": []
  }
 ],
 "metadata": {
  "kernelspec": {
   "display_name": "Python 3 (ipykernel)",
   "language": "python",
   "name": "python3"
  },
  "language_info": {
   "codemirror_mode": {
    "name": "ipython",
    "version": 3
   },
   "file_extension": ".py",
   "mimetype": "text/x-python",
   "name": "python",
   "nbconvert_exporter": "python",
   "pygments_lexer": "ipython3",
   "version": "3.10.6"
  }
 },
 "nbformat": 4,
 "nbformat_minor": 5
}
